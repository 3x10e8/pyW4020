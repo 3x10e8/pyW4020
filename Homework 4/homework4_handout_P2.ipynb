{
 "cells": [
  {
   "cell_type": "markdown",
   "metadata": {},
   "source": [
    "# BMEB W4020 Computational Neuroscience Homework \\# 4 Solution"
   ]
  },
  {
   "cell_type": "markdown",
   "metadata": {},
   "source": [
    "<b>Author</b>: Tingkai Liu <tl2747@columbia.edu>, based on previous work from the Bionet Group\n",
    "\n",
    "<b>Copyright 2012-2020</b> Aurel A. Lazar, Tingkai Liu"
   ]
  },
  {
   "cell_type": "markdown",
   "metadata": {},
   "source": [
    "1. Encoding circuit with 2 Connor-Stevens neurons with feedforward, feedback and cross-feedback.\n",
    "    <div><img src=\"figures/circuits.png\" width=500/></div>\n",
    "    \n",
    "$h^1$ and $h^2$ refer to feedforward filters; $h^{11}$ and $h^{22}$ refer to feedback filters; $h^{12}$ and $h^{21}$ refer to cross-feedback filters. \n",
    "\n",
    "Assume the BSGs in Figure 1 are PIFs of two different ConnorStevens neurons.\n",
    "\n",
    "### Problem2\n",
    "Note that this problem tests your understanding of neural encoding and decoding. It does **NOT** require you to write any code.\n",
    "1. Writing down the $t$-transform of the _Encoding Circuit_ shown above in an inner product form.\n",
    "2. Find an algorithm that recovers the signal $u$. Provide the detailed procedures of derivation, e.x., how to calculate $q, G, c$ and how to recover the signal.\n",
    "3. Under what conditions can the signal $u$ be perfertly recovered? Note that the analytical solution is not required here. Just use your words to briefly describe your understanding, e.x., from the perspectives of $u$ and the observed spikes."
   ]
  }
 ],
 "metadata": {
  "kernelspec": {
   "display_name": "Python 3",
   "language": "python",
   "name": "python3"
  },
  "language_info": {
   "codemirror_mode": {
    "name": "ipython",
    "version": 3
   },
   "file_extension": ".py",
   "mimetype": "text/x-python",
   "name": "python",
   "nbconvert_exporter": "python",
   "pygments_lexer": "ipython3",
   "version": "3.6.12"
  }
 },
 "nbformat": 4,
 "nbformat_minor": 4
}
