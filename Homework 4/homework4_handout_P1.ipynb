{
 "cells": [
  {
   "cell_type": "markdown",
   "metadata": {},
   "source": [
    "# BMEB W4020 Computational Neuroscience Homework \\# 4"
   ]
  },
  {
   "cell_type": "markdown",
   "metadata": {},
   "source": [
    "## Problem 1:\n",
    "\n",
    "For this problem, you are asked to using a bank of _4_ Rinzel PIF encoders to encode a random signal \n",
    "$$\n",
    "u(t)= \\sum^{k} I(kT) \\frac{sin\\left(\\Omega (t-kT) \\right)}{\\Omega (t-kT)}\n",
    "$$\n",
    "where $\\Omega = 2 \\pi \\cdot 200$ Hz, $t \\in [-5T, 40T]$, where $T = \\frac{\\pi}{\\Omega}$ is the period of the signal.\n",
    "\n",
    "You are asked to use a different bias current value $b^{i}$ for each Rinzel PIF neuron. \n",
    "You are recommended to select a set of values that work for the TEM/TDM procedure and add random perturbation to the parameter values. \n",
    "For example, `b(i) = b_avg + randn(1)`.\n",
    "\n",
    "1. Implement SIMO encoding algorithm using paramters of choice. (see below for a set of possible values. But do experiemnt with these parameters).\n",
    "2. Implement the recovery algorithm using 1,2,3,4 neurons for decoding. Compare the decoding results.\n",
    "\n",
    "Choose any other parameters for your experiments as appropriate. "
   ]
  },
  {
   "cell_type": "markdown",
   "metadata": {},
   "source": [
    "<center><img src=\"figures/simo_pif.png\" align=\"center\" width=\"480\"/></center>"
   ]
  },
  {
   "cell_type": "markdown",
   "metadata": {},
   "source": [
    "## Setup"
   ]
  },
  {
   "cell_type": "markdown",
   "metadata": {},
   "source": [
    "Let us start by cleaning up the Matlab workspace."
   ]
  },
  {
   "cell_type": "code",
   "execution_count": null,
   "metadata": {},
   "outputs": [],
   "source": [
    "clc; close all; clearvars;"
   ]
  },
  {
   "cell_type": "code",
   "execution_count": null,
   "metadata": {},
   "outputs": [],
   "source": [
    "%plot -b inline -f svg -r 96 -s 1080,720"
   ]
  },
  {
   "cell_type": "markdown",
   "metadata": {},
   "source": [
    "Let us now define a signal generator function:"
   ]
  },
  {
   "cell_type": "code",
   "execution_count": null,
   "metadata": {},
   "outputs": [],
   "source": [
    "signal_generator = @(t,sample,sample_time,omega) ...\n",
    "                    sum( diag(sample) * sinc( (repmat(t,size(sample_time))- ...\n",
    "                    repmat(sample_time,size(t)))/pi*omega)/pi*omega); "
   ]
  },
  {
   "cell_type": "markdown",
   "metadata": {},
   "source": [
    "## Population Encoding Model with Rinzel PIF neuron"
   ]
  },
  {
   "cell_type": "markdown",
   "metadata": {},
   "source": [
    "Let us start by initializing the stimulus:"
   ]
  },
  {
   "cell_type": "code",
   "execution_count": null,
   "metadata": {},
   "outputs": [],
   "source": [
    "rng(20204020);                       % set random number generator\n",
    "dt    = 1e-6;                                    % set time step\n",
    "Omega = 2*pi*200;                                 % set cutoff frequency\n",
    "T     = pi/Omega;                                % set sampling period\n",
    "t     = -5*T:dt:40*T;                            % set simulation time\n",
    "st    = (-5:40)*T;                               % set sample times\n",
    "s     = rand(numel(st),1)-0.5;                   % set samples of the stimulus\n",
    "U     = signal_generator(t,s,st',Omega);         % generate the stimulus\n",
    "U     = U/max(abs(U));                           % normalize the stimulus"
   ]
  },
  {
   "cell_type": "markdown",
   "metadata": {},
   "source": [
    "Now, let us initialize parameters for the leaky IAF neurons. "
   ]
  },
  {
   "cell_type": "code",
   "execution_count": null,
   "metadata": {},
   "outputs": [],
   "source": [
    "num   = 4;                                     % set the number of neurons\n",
    "bias  = NaN;"
   ]
  },
  {
   "cell_type": "markdown",
   "metadata": {},
   "source": [
    "Now, let's perform the encoding:"
   ]
  },
  {
   "cell_type": "code",
   "execution_count": null,
   "metadata": {},
   "outputs": [],
   "source": [
    "%% TODO\n",
    "% 1. Find PRCs \n",
    "% 2. Encode PIF"
   ]
  },
  {
   "cell_type": "markdown",
   "metadata": {},
   "source": [
    "## Decoding Stimuli Encoded with Population Rinzel PIF Neurons"
   ]
  },
  {
   "cell_type": "markdown",
   "metadata": {},
   "source": [
    "Let us start decoding by computing the $q$ vector."
   ]
  },
  {
   "cell_type": "code",
   "execution_count": null,
   "metadata": {},
   "outputs": [],
   "source": [
    "%% TODO"
   ]
  },
  {
   "cell_type": "markdown",
   "metadata": {},
   "source": [
    "Now, let's compute G matrix block by block. Each block $G_i = [G_{i,1} G_{i,2} ... G_{i,N}] $ associates with the spike train of the $i$th neuron. "
   ]
  },
  {
   "cell_type": "code",
   "execution_count": null,
   "metadata": {},
   "outputs": [],
   "source": [
    "%% TODO"
   ]
  },
  {
   "cell_type": "markdown",
   "metadata": {},
   "source": [
    "Now, let's recover the stimulus using different numbers of neurons: 1,2,3,4"
   ]
  },
  {
   "cell_type": "code",
   "execution_count": null,
   "metadata": {},
   "outputs": [],
   "source": [
    "%% TODO"
   ]
  },
  {
   "cell_type": "markdown",
   "metadata": {},
   "source": [
    "Finally, let's plot the decoding results we have obtained. Please also show the reconstruction errors in RMSE and SNR."
   ]
  },
  {
   "cell_type": "code",
   "execution_count": null,
   "metadata": {},
   "outputs": [],
   "source": [
    "%% TODO\n",
    "% 1. Plot recovery\n",
    "% 2. Plot RMSE (dB)\n",
    "% 3. Compute and label SNR (dB)"
   ]
  }
 ],
 "metadata": {
  "kernelspec": {
   "display_name": "Matlab",
   "language": "matlab",
   "name": "matlab"
  },
  "language_info": {
   "codemirror_mode": "octave",
   "file_extension": ".m",
   "help_links": [
    {
     "text": "MetaKernel Magics",
     "url": "https://metakernel.readthedocs.io/en/latest/source/README.html"
    }
   ],
   "mimetype": "text/x-octave",
   "name": "matlab",
   "version": "0.16.9"
  }
 },
 "nbformat": 4,
 "nbformat_minor": 4
}
