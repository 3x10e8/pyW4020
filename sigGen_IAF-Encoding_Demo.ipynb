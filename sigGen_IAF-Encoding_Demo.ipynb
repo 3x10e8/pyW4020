{
 "cells": [
  {
   "cell_type": "markdown",
   "metadata": {},
   "source": [
    "# Signal Generator and IAF Encoding Demo"
   ]
  },
  {
   "cell_type": "markdown",
   "metadata": {},
   "source": [
    "In this demo, the user will \n",
    "1. Generate an input signal $u(t)$\n",
    "2. Encode this signal as spikes using an Integrate-and-Fire neuron"
   ]
  },
  {
   "cell_type": "markdown",
   "metadata": {},
   "source": [
    "## Library imports\n",
    "Python version check.\n",
    "This notebook was tested in Anaconda running python 3.7.4"
   ]
  },
  {
   "cell_type": "code",
   "execution_count": 224,
   "metadata": {},
   "outputs": [
    {
     "name": "stdout",
     "output_type": "stream",
     "text": [
      "3.7.4\n"
     ]
    }
   ],
   "source": [
    "from platform import python_version\n",
    "print(python_version())"
   ]
  },
  {
   "cell_type": "code",
   "execution_count": 323,
   "metadata": {},
   "outputs": [],
   "source": [
    "# These libraries should be included with anaconda\n",
    "import ipywidgets as widgets\n",
    "import matplotlib.pyplot as plt\n",
    "from ipywidgets import interact, interactive_output, interactive, Layout\n",
    "\n",
    "import numpy as np\n",
    "np.random.seed(20204020)\n",
    "\n",
    "from numpy import sin, pi, cumsum, sinc, transpose, diag\n",
    "from numpy.matlib import repmat"
   ]
  },
  {
   "cell_type": "code",
   "execution_count": 226,
   "metadata": {},
   "outputs": [],
   "source": [
    "# We will use ipympl as our plotting interface\n",
    "try:\n",
    "    import ipympl\n",
    "except ImportError:\n",
    "    !pip install ipympl # run terminal command to install ipympl\n",
    "    import ipympl"
   ]
  },
  {
   "cell_type": "markdown",
   "metadata": {},
   "source": [
    "## Helper Classes\n",
    "These class containers are just to make code reuse easier across demos.\n",
    "\n",
    "### class: signal\n",
    "The signal class is just to have containers for storing handy information about the input and output to an encoder, such as its:\n",
    "1. time stamps $t$\n",
    "2. time step $dt$\n",
    "3. input amplitudes $u(t)$\n",
    "4. integrated input $\\int_{0}^{t} u(t) dt$\n",
    "5. encoder output $v(t)$"
   ]
  },
  {
   "cell_type": "code",
   "execution_count": 227,
   "metadata": {},
   "outputs": [],
   "source": [
    "class signal:\n",
    "    def __init__(self, duration = 1, step = 1e-5, waveform = 'sin'):\n",
    "        self.dt = step\n",
    "        self.t = np.arange(0, duration, step)\n",
    "        self.u = np.zeros_like(self.t)\n",
    "        self.intu = np.zeros_like(self.t) # just a placeholder, no integration yet\n",
    "        self.v = np.zeros_like(self.t)\n",
    "        \n",
    "        if waveform == 'sin':\n",
    "            self.u = sin(2*pi*self.t) # create a sine wave by default"
   ]
  },
  {
   "cell_type": "markdown",
   "metadata": {},
   "source": [
    "### class: encoder\n",
    "Holds the parameters and outputs for a given encoder."
   ]
  },
  {
   "cell_type": "code",
   "execution_count": 233,
   "metadata": {},
   "outputs": [],
   "source": [
    "class encoder:\n",
    "    def __init__(self, model='iaf'):\n",
    "        if model == 'iaf':\n",
    "            encoder.d = 1e-3 # threshold\n",
    "            encoder.tk = [0] # placeholder for spike times\n",
    "        # more encoders can be imported"
   ]
  },
  {
   "cell_type": "markdown",
   "metadata": {},
   "source": [
    "## Global variables\n",
    "Note that these variables can be modified by the signal generator and the encoder.\n",
    "Once the signal is modified, please run the encoder again to update plots."
   ]
  },
  {
   "cell_type": "code",
   "execution_count": 234,
   "metadata": {},
   "outputs": [],
   "source": [
    "in1 = signal() # input signal\n",
    "nm1 = encoder()"
   ]
  },
  {
   "cell_type": "markdown",
   "metadata": {},
   "source": [
    "# Interactive: signal generator\n",
    "The user can generate an input signal to be encoded. So far options include:\n",
    "1. sine\n",
    "2. step\n",
    "3. random band-limited sinc\n",
    "\n",
    "Directions: run the cell below and then change input parameters to visualize corresponding signal."
   ]
  },
  {
   "cell_type": "code",
   "execution_count": 334,
   "metadata": {},
   "outputs": [
    {
     "data": {
      "application/vnd.jupyter.widget-view+json": {
       "model_id": "e7b8b04bdd304eb7a4af61c994379ab7",
       "version_major": 2,
       "version_minor": 0
      },
      "text/plain": [
       "Canvas(toolbar=Toolbar(toolitems=[('Home', 'Reset original view', 'home', 'home'), ('Back', 'Back to previous …"
      ]
     },
     "metadata": {},
     "output_type": "display_data"
    },
    {
     "data": {
      "application/vnd.jupyter.widget-view+json": {
       "model_id": "632e76b7fd404429993e44bbdd56f12e",
       "version_major": 2,
       "version_minor": 0
      },
      "text/plain": [
       "Output()"
      ]
     },
     "metadata": {},
     "output_type": "display_data"
    },
    {
     "data": {
      "application/vnd.jupyter.widget-view+json": {
       "model_id": "fca9b32dc70a4df99bfdc32fd209cfe2",
       "version_major": 2,
       "version_minor": 0
      },
      "text/plain": [
       "VBox(children=(Dropdown(description='Waveform:', index=2, options=('sin', 'step', 'sincs'), value='sincs'), Fl…"
      ]
     },
     "metadata": {},
     "output_type": "display_data"
    }
   ],
   "source": [
    "%matplotlib widget\n",
    "\n",
    "fig, sg_ax = plt.subplots(figsize=(8, 4))\n",
    "sg_ax.set_ylim([-2, 2])\n",
    "line, = sg_ax.plot(in1.t, in1.u, lw=2)\n",
    "sg_ax.set_xlabel('Time [s]')\n",
    "sg_ax.set_ylabel('Amplitude')\n",
    "sg_ax.grid(True)\n",
    "\n",
    "def plotter(wave, ampl, freq, time, startTime):\n",
    "    if time <= 0:\n",
    "        time = in1.dt\n",
    "        \n",
    "    in1.t = np.arange(0, time, in1.dt)\n",
    "    \n",
    "    if wave == 'sin':\n",
    "        in1.u =  ampl*sin(2*pi*freq*in1.t) # compute data in sig gen, not plotter \n",
    "        sg_ax.set_title('${}{}(2\\pi.{}t)$'.format(ampl, wave, freq))\n",
    "        \n",
    "    elif wave == 'step':\n",
    "        in1.u = np.zeros_like(in1.t)\n",
    "        in1.u[in1.t>startTime] = ampl\n",
    "        sg_ax.set_title(wave)\n",
    "        \n",
    "    elif wave == 'sincs':\n",
    "        W = 2*pi*freq # omega\n",
    "        Ts = pi/W # skip 2 for Nyquist criterion\n",
    "        Ns = int((in1.t[-1]-in1.t[0])/Ts)          # find the number of stimulus samples\n",
    "        s  = np.random.rand(Ns) - 0.5\n",
    "        in1.u = np.zeros_like(in1.t)\n",
    "        for k in range(Ns):\n",
    "            in1.u += s[k]*sinc((W/pi)*(in1.t -k*Ts)) / (W/pi)  # the first sample is zero\n",
    "        \n",
    "        ''' # use repmat for efficiency\n",
    "        sample_time = \n",
    "        in1.u = sum( diag(sample) @ sinc( \\\n",
    "                    (repmat(in1.t, len(samples), 1) - repmat(sample_time, 1, len(in1.t))) \n",
    "                                         *(W/pi))/(W/pi))\n",
    "        '''\n",
    "        in1.u /= max(abs(in1.u)) # normalize \n",
    "        in1.u *= ampl # and scale\n",
    "        \n",
    "        sg_ax.set_title('$\\omega = {:.2f} rad/s [{} Hz]$'.format(W, freq))\n",
    "\n",
    "    line.set_data(in1.t, in1.u) # could swap for plotly calls\n",
    "    sg_ax.set_xlim([in1.t[0], in1.t[-1]])\n",
    "    sg_ax.set_ylim([-ampl, ampl])\n",
    "    \n",
    "    # update sizes of other arrays\n",
    "    in1.intu = cumsum(in1.u)\n",
    "    in1.v = np.zeros_like(in1.t)\n",
    "    \n",
    "    return fig\n",
    "\n",
    "timeSlider = widgets.FloatSlider(\n",
    "    description = 'Duration (s)', min = 0, max = 2, value = .1)\n",
    "startSlider = widgets.FloatSlider(\n",
    "    description = 'Step @(s)', min = 0, max = 2, value = 0.1)\n",
    "freqSlider = widgets.IntSlider(\n",
    "    description = 'Freq (Hz)', min = 0, max = 100, value = 40)\n",
    "amplSlider = widgets.FloatSlider(\n",
    "    description = 'Amplitude (V)', min = 0, max = 1, value = 0.5)\n",
    "waveSelector = widgets.Dropdown(\n",
    "    options=['sin', 'step', 'sincs'],\n",
    "    value='sincs',\n",
    "    description='Waveform:',\n",
    "    disabled=False,\n",
    ")\n",
    "\n",
    "ui = widgets.VBox([\n",
    "    waveSelector, \n",
    "    timeSlider, \n",
    "    freqSlider, \n",
    "    amplSlider, \n",
    "    startSlider])\n",
    "\n",
    "out = widgets.interactive_output(plotter, {\n",
    "    'wave': waveSelector, \n",
    "    'ampl': amplSlider, \n",
    "    'freq': freqSlider,\n",
    "    'time': timeSlider,\n",
    "    'startTime': startSlider,\n",
    "})\n",
    "\n",
    "display(out, ui)"
   ]
  },
  {
   "cell_type": "markdown",
   "metadata": {},
   "source": [
    "## Helper functions for plotting\n",
    "Here we perform the IAF's encoding, and have another plotting function."
   ]
  },
  {
   "cell_type": "code",
   "execution_count": 341,
   "metadata": {},
   "outputs": [],
   "source": [
    "def encode_iaf(change): \n",
    "    nm1.d = change['new'] # updated threshold from slider\n",
    "    nm1.tk = [] # empty array of new spike times\n",
    "    \n",
    "    for n in range(len(in1.t)):\n",
    "        if n == 0:\n",
    "            in1.v[n] = 0\n",
    "            in1.intu[n] = 0\n",
    "        else:\n",
    "            step = in1.dt*in1.u[n]\n",
    "            in1.v[n] = in1.v[n-1] + step\n",
    "            in1.intu[n] = in1.intu[n-1] + step\n",
    "            \n",
    "        if in1.v[n] > nm1.d:\n",
    "            in1.v[n] = 0 #-= nm1.d\n",
    "            nm1.tk.append(in1.dt * n)\n",
    "\n",
    "def plot_t_transform(time, threshold):\n",
    "    n = int(time/in1.dt)\n",
    "    \n",
    "    line_v.set_data(in1.t[:n], in1.v[:n]) # could swap for plotly calls\n",
    "    line_intu.set_data(in1.t[:n], in1.intu[:n])\n",
    "    line_d.set_data(in1.t, nm1.d)\n",
    "    \n",
    "    tk_to_plot = np.array(nm1.tk) # cast to np array for vector comparison below\n",
    "    tk_to_plot = tk_to_plot[tk_to_plot < n*in1.dt] # find spikes that have can be shown\n",
    "    ''' # To Do: make a spike raster\n",
    "    tk_to_plot = np.transpose(np.asmatrix(tk_to_plot))\n",
    "    line_tk.set_data([tk_to_plot, tk_to_plot], \n",
    "                     [-np.ones_like(tk_to_plot), np.ones_like(tk_to_plot)])\n",
    "    '''\n",
    "    line_tk.set_data(tk_to_plot, np.zeros_like(tk_to_plot))\n",
    "    \n",
    "    ax[0].set_xlim([in1.t[0], in1.t[-1]])\n",
    "    ax[0].set_ylim([min(in1.u), max(in1.u)])\n",
    "    ax2.set_ylim([-max(abs(in1.intu)), max(abs(in1.intu))])\n",
    "    ax[1].set_xlim([in1.t[0], in1.t[-1]])\n",
    "    ax[1].set_ylim([-1, 1])\n",
    "    return fig"
   ]
  },
  {
   "cell_type": "markdown",
   "metadata": {},
   "source": [
    "# Interactive: sliding through the encoding\n",
    "User can change the threshold of the encoder, and then slide through time to see the integration and resulting spikes.\n",
    "\n",
    "Directions: re-run this cell once an updated signal is available."
   ]
  },
  {
   "cell_type": "code",
   "execution_count": 345,
   "metadata": {},
   "outputs": [
    {
     "data": {
      "application/vnd.jupyter.widget-view+json": {
       "model_id": "7f90ed7fdbc348b4b6867abb8c090648",
       "version_major": 2,
       "version_minor": 0
      },
      "text/plain": [
       "Canvas(toolbar=Toolbar(toolitems=[('Home', 'Reset original view', 'home', 'home'), ('Back', 'Back to previous …"
      ]
     },
     "metadata": {},
     "output_type": "display_data"
    },
    {
     "data": {
      "application/vnd.jupyter.widget-view+json": {
       "model_id": "db9909e060de411a84c3f88a244c24be",
       "version_major": 2,
       "version_minor": 0
      },
      "text/plain": [
       "Output()"
      ]
     },
     "metadata": {},
     "output_type": "display_data"
    },
    {
     "data": {
      "application/vnd.jupyter.widget-view+json": {
       "model_id": "417e73319ecc4f34811ba5baf7a778d8",
       "version_major": 2,
       "version_minor": 0
      },
      "text/plain": [
       "VBox(children=(FloatSlider(value=0.09999000000000001, description='Interval t [s]', layout=Layout(width='60%')…"
      ]
     },
     "metadata": {},
     "output_type": "display_data"
    }
   ],
   "source": [
    "%matplotlib widget\n",
    "\n",
    "# Create placeholder plots\n",
    "fig, ax = plt.subplots(2, 1, # rows and columns\n",
    "                       gridspec_kw={'height_ratios': [3, 1]}, # comparative sizes\n",
    "                       figsize=(6, 4) # fig size in inches\n",
    "                      ) \n",
    "\n",
    "# Plot the user generated input signal u\n",
    "line_u, = ax[0].plot(in1.t, in1.u, \n",
    "                   label='$u(t)$',\n",
    "                   lw=2)\n",
    "ax[0].legend(loc='upper left')\n",
    "ax[0].spines['right'].set_color('#1f77b4')\n",
    "ax[0].tick_params(axis='y', colors='#1f77b4')\n",
    "\n",
    "# Plot integrated u, threshold, and thresolded output\n",
    "ax2 = ax[0].twinx()\n",
    "line_intu, = ax2.plot(in1.t, np.zeros_like(in1.intu), \n",
    "                      label='$\\int_{0}^{t} u(t) dt$',\n",
    "                      lw=1, linestyle='dashed', color='c')\n",
    "line_d, = ax2.plot(in1.t, nm1.d * np.ones_like(in1.t), \n",
    "                   label='threshold',\n",
    "                   color='c', lw=2)\n",
    "line_v, = ax2.plot(in1.t, np.zeros_like(in1.v), \n",
    "                   label='$v(t)$',\n",
    "                   color='orange', lw=1)\n",
    "ax2.legend(loc='upper right')\n",
    "ax2.spines['right'].set_color('c')\n",
    "ax2.tick_params(axis='y', colors='c')\n",
    "\n",
    "# Plot spike times\n",
    "line_tk, = ax[1].plot(nm1.tk, np.ones_like(nm1.tk),\n",
    "                      #'x-', # use for plot raster\n",
    "                      'x',\n",
    "                      label='$t_k$')\n",
    "ax[1].legend(loc='upper right')\n",
    "\n",
    "# Slider to set integraton\n",
    "timeSlider = widgets.FloatSlider(\n",
    "    description = 'Interval t [s]', min=in1.t[0], max=in1.t[-1], step=in1.dt, value=in1.t[-1],\n",
    "    layout=Layout(width='60%'))\n",
    "\n",
    "threshSlider = widgets.FloatSlider(\n",
    "    description = 'Threshold', \n",
    "    min = 0, max=max(abs(in1.intu)), step=in1.dt, \n",
    "    value=max(in1.intu)/2,\n",
    "    readout_format='.4f',\n",
    "    continuous_update=False, layout=Layout(width='60%'))\n",
    "\n",
    "# Make threshold changes by the user re-run encoding\n",
    "threshSlider.observe(encode_iaf, names='value')\n",
    "\n",
    "ui = widgets.VBox([\n",
    "    timeSlider, \n",
    "    threshSlider])\n",
    "\n",
    "out = widgets.interactive_output(plot_t_transform, {\n",
    "    'time': timeSlider,\n",
    "    'threshold': threshSlider,\n",
    "})\n",
    "\n",
    "display(out, ui)"
   ]
  },
  {
   "cell_type": "code",
   "execution_count": null,
   "metadata": {},
   "outputs": [],
   "source": []
  },
  {
   "cell_type": "code",
   "execution_count": null,
   "metadata": {},
   "outputs": [],
   "source": []
  }
 ],
 "metadata": {
  "kernelspec": {
   "display_name": "Python 3",
   "language": "python",
   "name": "python3"
  },
  "language_info": {
   "codemirror_mode": {
    "name": "ipython",
    "version": 3
   },
   "file_extension": ".py",
   "mimetype": "text/x-python",
   "name": "python",
   "nbconvert_exporter": "python",
   "pygments_lexer": "ipython3",
   "version": "3.7.4"
  }
 },
 "nbformat": 4,
 "nbformat_minor": 2
}
