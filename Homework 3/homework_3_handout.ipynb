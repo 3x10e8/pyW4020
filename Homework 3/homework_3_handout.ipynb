{
 "cells": [
  {
   "cell_type": "markdown",
   "metadata": {},
   "source": [
    "# BMEB W4020: Circuits in the Brain 2020 Fall Homework \\#3 Handout\n",
    "*Author:* Tingkai Liu <tl2747@columbia.edu>\n",
    "\n",
    "\n",
    "*Based on Previous Work by:* Tingkai Liu, Mehmet Kerem Turkcan, Chung-Heng Yeh,\n",
    "                  Konstantinos Psychas <kp2547@columbia.edu>, Cong Han\n",
    "\n",
    "\n",
    "Copyright 2012-2020 Tingkai Liu, Mehmet Kerem, Aurel A. Lazar and Chung-Heng Yeh, Cong Han\n"
   ]
  },
  {
   "cell_type": "markdown",
   "metadata": {},
   "source": [
    "# PROBLEM \\#1 - $\\delta$-insensitive TDM\n",
    "\n",
    "The stimulus of a single-input single-output (SISO) TEM is modeled as\n",
    "a bandlimited function of the form\n",
    "$$\n",
    "u(t)= \\sum_{k=1}^{15} u(kT) \\frac{\\sin \\Omega (t-kT)}{\\Omega (t-kT)},\n",
    "$$\n",
    "where $\\Omega = 2 \\pi \\cdot 30$ Hz and $T=\\frac{\\pi}{\\Omega}$.\n",
    "\n",
    "Assume that the TEM describes a Leaky IAF neuron. After choosing appropriate TEM parameter values (with finite R) generate the trigger times in the time interval $[-2T, 18T]$. Suggestion: RC = 20 ms.\n",
    "\n",
    "### Tasks\n",
    "1. Implement a threshold insensitive ($\\delta$-insensitive) decoding algorithm for Leaky IAF.\n",
    "2. Plot the recovery error (difference between the input stimulus and the recovered waveform) and calculate the Signal-to-Noise ratio of the recovery in decibel (dB).\n",
    "3. Compare the $\\delta$-insensitive recovery result with the $\\delta$-sensitive result (implementation of $\\delta$-sensitive algorithm can be found in lecture notebook)\n",
    "4.Assume that the LIF neuron generates trigger times using\n",
    "  a threshold value $\\delta$ whereas the recovery algorithm employs\n",
    "  $\\delta +\\varepsilon$.  Plot the mean-square stimulus recovery error\n",
    "  as a function of the threshold $\\delta$ for at least thre different\n",
    "  values of the parameter $\\varepsilon$ (${\\it e.g.,} ~\\varepsilon =\n",
    "  10^{-3}\\delta$, $\\varepsilon =\n",
    "  10^{-2}\\delta$ and $\\varepsilon = 10^{-1} \\delta$). Compare the error between $\\delta$-sensitive and $\\delta$-insensitive recoveries.\n",
    "\n",
    "\n",
    "### Note\n",
    "Signal-to-Noise ratio (SNR) of the recovery can be calculated for signal $u(t)$ and recovered signal $u_{rec}(t)$ as \n",
    "$$\n",
    "SNR = 10\\log_{10}\\left(\\frac{mean(u^2)}{mean((u-u_{rec})^2)}\\right)\n",
    "$$\n",
    "the result will be in dB"
   ]
  },
  {
   "cell_type": "markdown",
   "metadata": {},
   "source": [
    "## $\\delta$-insenitive recovery (refer to Chapter \\#6 for more details)\n",
    "TDM algorithms are derived from t-transforms of the point neuron models. For the case of ideal IAF, this is written as \n",
    "\\begin{align*}\n",
    "\\frac{1}{\\kappa}\\int_{t_k}^{t_{k+1}}u(t)+b \\ dt = \\delta\\\\\n",
    "\\int_{t_k}^{t_{k+1}}u(t) dt = \\kappa\\delta - b(t_{k+1} - t_k)\\\\\n",
    "\\end{align*}\n",
    "\n",
    "Because the t-transform above is dependent on the threshold value $\\delta$, the recovery algorithm is also depedent on the threshold $\\delta$. In situations where $\\delta$ is not directly observable (as is the case for most neural systems), we need to derive an alternative algorithm that does not depend on $\\delta$ explicity."
   ]
  },
  {
   "cell_type": "markdown",
   "metadata": {},
   "source": [
    "To do this, we rely on the _Compensation Principle_, which is based on the observation that for a fixed value $\\delta$, subtraction between 2 consecutive t-transforms remove $\\delta$ completely:\n",
    "$$\n",
    "\\int_{t_{l+1}}^{t_{l+2}} u(s) ds - \\int_{t_{l}}^{t_{l+1}} u(s) ds = -b[(t_{l+2} - t_{l+1}) - (t_{l+1}-t_l)]\n",
    "$$\n",
    "$\\forall l \\in \\mathbb{Z}$"
   ]
  },
  {
   "cell_type": "markdown",
   "metadata": {},
   "source": [
    "### Derivation of TDM algorithm\n",
    "Recall, the signals at hand are assumed to be in a functional space of bandlimited signals, which is also Reproducing Kernel Hilbert Space with sinc kernels(see Chapter 7 in book for more details). Hence, the signal to be recovered can be written as \n",
    "$$u(t) = \\sum_{k \\in \\mathbb{Z}} c_k \\cdot g(t-s_k)$$\n",
    "where $g(t) = sin(\\Omega t)/\\pi t$ and $s_k = (t_{k} + t_{k+1})/2$.\n",
    "\n",
    "For the $\\delta$-sensitive case, substituting expression for $u(t)$ (again, under the assumption of the functional space), we have \n",
    "$$\\int_{t_l}^{t_{l+1}}\\sum_{k \\in \\mathbb{Z}} c_k \\cdot g(t-s_k)dt = \\kappa\\delta - b (t_{l+1}-t_l)$$.\n",
    "since signals are in $\\mathcal{L}^{2}$, we can safely exchange the two linear operations $\\int , \\sum$ and obtain\n",
    "$$\\sum_{k \\in \\mathbb{Z}} c_k \\underbrace{\\int_{t_l}^{t_{l+1}} g(t-s_k)dt}_{[\\mathbf{G}]_{lk}} = \\underbrace{\\kappa\\delta - b (t_{l+1}-t_l)}_{q_k}$$.\n",
    "The recovery of the original signal therefore amounts to _finding $c_k$_ which reduces to a matrix inversion problem:\n",
    "$$\\mathbf{c} = \\mathbf{G}^{+}\\mathbf{q}$$"
   ]
  },
  {
   "cell_type": "markdown",
   "metadata": {},
   "source": [
    "For the case of $\\delta$-insenstive recovery, the expression above needs to be re-written such that a difference is taken between consecutive entries of $\\mathbf{q}$, and this can be done in matrix form with a toeplitz matrix of the form\n",
    "$$\\mathbf{B} = \\begin{bmatrix} \n",
    "-1 & 1 & 0 & 0 & \\cdots & 0 & 0 \\\\\n",
    "0 & -1 & 1 & 0 & \\cdots & 0 & 0 \\\\\n",
    "\\vdots & \\vdots & \\vdots & \\vdots & \\ddots & \\vdots & \\vdots \\\\\n",
    "0 & 0 & 0 & 0 & \\cdots & -1 & 1 \\\\\n",
    "0 & 0 & 0 & 0 & \\cdots & 0 & -1 \\\\\n",
    "\\end{bmatrix}$$\n",
    "\n",
    "It can then be shown that the encoding\n",
    "$$\\int_{t_{l+1}}^{t_{l+2}} u(s) ds - \\int_{t_{l}}^{t_{l+1}} u(s) ds = -b[(t_{l+2} - t_{l+1}) - (t_{l+1}-t_l)]$$\n",
    "can be now re-written for the $\\delta$-insensitive case as \n",
    "$$\n",
    "{\\bf BGc} = {\\bf Bq}\n",
    "$$\n",
    "which gives recovery algorithm:\n",
    "$$\\mathbf{c} = \\mathbf{B}^{-1}(\\mathbf{B}\\mathbf{G}\\mathbf{B}^{-1})^{+}\\cdot \\mathbf{B}\\mathbf{q}$$"
   ]
  },
  {
   "cell_type": "markdown",
   "metadata": {},
   "source": [
    "# Problem 2 - Derivation of TEM/TDM algorithm for Rinzel with dendritic processing\n",
    "In this problem you are asked to derive and implement a TEM/TDM algorithm for Rinzel neuron with dendritive processing modeled as a linear filter ($h(t)$ in the figure below).\n",
    "\n",
    "Below is the encoding circuit consisting of a filter in cascade with a Hodgkin-Huxley neuron:\n",
    "   <center><img src=\"./rinzel_dendrite.png\" width=650/></center>\n",
    "\n",
    "In the figure above, the external current injected into the neuron is given as \n",
    "$$\n",
    "I_{ext}(t) = b + \\underbrace{\\left( u \\ast h \\right)(t)}_{v(t)}\n",
    "$$\n",
    "where $b$ is the bias current (also written as injected current $I$ in other texts).\n",
    "\n",
    "\n",
    "### Tasks\n",
    "1. Generate the impulse response of $h(t)$ and visualize.\n",
    "2. With $b=55$, Encode a randomly generated input stimulus (from Problem 1) using a reduced PIF neuron that is equivalent to the Rinzel neuron model. \n",
    "3. Derive an algorithm to recover the signal $u(t)$ from the recieved spikes.\n",
    "    1. Writing down the $t$-transform of the encoding circuit shown above in an inner product form.\n",
    "    2. Find the time decoding machine (TDM) that recovers the signal $u$. Particularly, provide forms for $q_k$ and $[G]_{lk}$. Please write down the important procedures.\n",
    "3. Recover the signal $u(t)$ from output spike times of the reduced PIF and show encoding error and SNR (as in Problem \\#1 above)\n",
    "\n",
    "\n",
    "### Stimulus and Filter\n",
    "Use the stimulus $u(t)$ from Problem \\#1, and the filter $h$ is \n",
    "$$\n",
    "h(t)= 3 \\mbox{exp}\\left(-100 t\\right)\\left(\\frac{(150 t)^3}{3!}-\\frac{(150t)^5}{5!}\\right) \\cdot \\mathbb{1}_{t\\ge 0}\n",
    "$$\n",
    "note that $\\mathbb{1}_{t\\ge 0}$ is also known as the Heaviside Step function which ensures that the filter $h(t)$ is causal.\n",
    "\n",
    "### Note\n",
    "You know the filter $h$ and filtered output $v(t) = (u \\ast h)(t)$, but you _do not_ know $u(t)$. You can read the spike times, and you want to recover $u(t)$ from the spikes."
   ]
  },
  {
   "cell_type": "code",
   "execution_count": 1,
   "metadata": {},
   "outputs": [],
   "source": [
    "% Start by clearing MATLAB Workspace.\n",
    "close all; clearvars; clc;"
   ]
  },
  {
   "cell_type": "code",
   "execution_count": 2,
   "metadata": {},
   "outputs": [],
   "source": [
    "% Continue with signal generator definitions.\n"
   ]
  },
  {
   "cell_type": "code",
   "execution_count": 3,
   "metadata": {},
   "outputs": [],
   "source": [
    "%plot -b inline -f svg -r 96 -s 1080,720"
   ]
  },
  {
   "cell_type": "code",
   "execution_count": 4,
   "metadata": {},
   "outputs": [],
   "source": [
    "% Let us start by defining globals and initializing the input stimulus.\n",
    "rng(20204020);                               % Fix the RNG\n",
    "% TODO: generate input\n",
    "signal_generator = nan;\n",
    "t = nan;   % Time\n",
    "U = nan;   % Signal"
   ]
  },
  {
   "cell_type": "markdown",
   "metadata": {},
   "source": [
    "# Problem 1"
   ]
  },
  {
   "cell_type": "code",
   "execution_count": 6,
   "metadata": {},
   "outputs": [],
   "source": [
    "% TODO: Encod input U with LIF \n",
    "delta = 0.008;                            % set delta [mV]\n",
    "kappa = 1;                                % set kappa [mF]\n",
    "bias  = kappa*delta*Omega/pi+1;           % set bias  [mu A]"
   ]
  },
  {
   "cell_type": "code",
   "execution_count": 11,
   "metadata": {},
   "outputs": [],
   "source": [
    "% TODO: Recovery \n",
    "\n",
    "B = nan;\n",
    "q = nan;\n",
    "G = nan;\n",
    "\n",
    "c_insens = nan; % delta-insensitive recovery coefficients\n",
    "c_sens = nan; % delta-sensitive recovery coefficients"
   ]
  },
  {
   "cell_type": "code",
   "execution_count": 4,
   "metadata": {},
   "outputs": [],
   "source": [
    "% TOOD: PLOT Encoding\n",
    "% Suggestion: 3 rows, top) input, middle) output voltage and spike time, bottom) nyquist rate vs. inter-sample interval"
   ]
  },
  {
   "cell_type": "code",
   "execution_count": 15,
   "metadata": {},
   "outputs": [],
   "source": [
    "% Compute SNR\n",
    "SNR_f = @(u, u_rec) 10*log10(mean(u.^2)/mean((u-u_rec).^2));"
   ]
  },
  {
   "cell_type": "code",
   "execution_count": 5,
   "metadata": {},
   "outputs": [],
   "source": [
    "% TOOD: PLOT Recovery"
   ]
  },
  {
   "cell_type": "code",
   "execution_count": 17,
   "metadata": {},
   "outputs": [],
   "source": [
    "% TODO recovery with noisy threshold\n",
    "noise_ratio = nan;\n",
    "u_rec_sens_noisy = zeros(numel(t), length(noise_ratio));\n",
    "u_rec_insens_noisy = zeros(numel(t), length(noise_ratio));\n",
    "for n = 1:length(noise_ratio)\n",
    "    noise = noise_ratio(n)*delta;\n",
    "    B_noisy = nan;\n",
    "    q_noisy = nan;\n",
    "    G_noisy = nan;\n",
    "    c_sens_noisy = nan;\n",
    "    c_insens_noisy = nan;\n",
    "\n",
    "    % Recover the stimulus\n",
    "    u_rec_insens_noisy(:, n) = nan;\n",
    "    u_rec_sens_noisy(:, n) = nan;\n",
    " end"
   ]
  },
  {
   "cell_type": "code",
   "execution_count": 6,
   "metadata": {},
   "outputs": [],
   "source": [
    "% TODO: plot"
   ]
  },
  {
   "cell_type": "markdown",
   "metadata": {},
   "source": [
    "# Problem 2"
   ]
  },
  {
   "cell_type": "code",
   "execution_count": 7,
   "metadata": {},
   "outputs": [],
   "source": [
    "% TODO: choose bias, use any value that makes rinzel model spike\n",
    "bias=nan;"
   ]
  },
  {
   "cell_type": "code",
   "execution_count": 8,
   "metadata": {},
   "outputs": [
    {
     "name": "stderr",
     "output_type": "stream",
     "text": [
      "\u001b[0;31mError using eval\n",
      "Unrecognized function or variable 'dt'.\n",
      "\n",
      "\u001b[0m"
     ]
    }
   ],
   "source": [
    "% Generate a filter h, with a\n",
    "% temporal support on the interval [T_1, T_2]. The filter generated here\n",
    "% will be repeatedly used through this demo.\n",
    "\n",
    "T_1 = 0; T_2 = 0.1;                           % specify T_1 and T_2\n",
    "t_filt = T_1:dt:T_2;                          % set the length of the impulse response, [s]\n",
    "a = 150;                                      % set the filter parameter\n",
    "h = 3*a*exp(-a*t_filt).*((a*t_filt).^3/...    % set the filter impulse response\n",
    "    factorial(3)-(a*t_filt).^5/factorial(5));"
   ]
  },
  {
   "cell_type": "code",
   "execution_count": 21,
   "metadata": {},
   "outputs": [],
   "source": [
    "% TOOD: filter signal\n",
    "v = nan;"
   ]
  },
  {
   "cell_type": "code",
   "execution_count": 23,
   "metadata": {},
   "outputs": [],
   "source": [
    "% TODO: compute PRC at given biase\n",
    "prc = nan;"
   ]
  },
  {
   "cell_type": "code",
   "execution_count": 24,
   "metadata": {},
   "outputs": [],
   "source": [
    "% TODO: Compute PIF"
   ]
  },
  {
   "cell_type": "code",
   "execution_count": 9,
   "metadata": {},
   "outputs": [],
   "source": [
    "% TODO: plot Rinzel and PIF encoding result"
   ]
  },
  {
   "cell_type": "code",
   "execution_count": null,
   "metadata": {},
   "outputs": [],
   "source": [
    "% TODO: describe the algorithm for recovering the signal u(t) given h(t)"
   ]
  },
  {
   "cell_type": "code",
   "execution_count": 30,
   "metadata": {},
   "outputs": [],
   "source": [
    "% TODO: recover u(t)"
   ]
  },
  {
   "cell_type": "code",
   "execution_count": 10,
   "metadata": {},
   "outputs": [],
   "source": [
    "% TODO: plot recovery result. The recovery may be bad at the boundary because all signals are finite, \n",
    "%  you can focus on the middle part of the signal for comparison."
   ]
  }
 ],
 "metadata": {
  "kernelspec": {
   "display_name": "Matlab",
   "language": "matlab",
   "name": "matlab"
  },
  "language_info": {
   "codemirror_mode": "octave",
   "file_extension": ".m",
   "help_links": [
    {
     "text": "MetaKernel Magics",
     "url": "https://metakernel.readthedocs.io/en/latest/source/README.html"
    }
   ],
   "mimetype": "text/x-octave",
   "name": "matlab",
   "version": "0.16.9"
  }
 },
 "nbformat": 4,
 "nbformat_minor": 4
}
