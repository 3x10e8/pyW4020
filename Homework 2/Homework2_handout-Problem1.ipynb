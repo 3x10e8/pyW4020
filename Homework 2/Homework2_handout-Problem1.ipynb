{
 "cells": [
  {
   "cell_type": "markdown",
   "metadata": {},
   "source": [
    "# BMEB W4020: Circuits in the Brain 2020 Fall Homework \\#2 Solution - Problem 1\n",
    "*Author:* Tingkai Liu <tl2747@columbia.edu>\n",
    "\n",
    "*Based on Previous Work by:* Mehmet Kerem <mkt2126@columbia.edu>, Chung-Heng Yeh,\n",
    "                  Konstantinos Psychas <kp2547@columbia.edu>, Teng Yang, Cong Han <ch3212@columbia.edu>\n",
    "\n",
    "Copyright 2012-2020 Tingkai Liu, Mehmet Kerem, Aurel A. Lazar and Chung-Heng Yeh, Cong Han"
   ]
  },
  {
   "cell_type": "markdown",
   "metadata": {},
   "source": [
    "## Problem 1: PRC of Connor-Stevens Neuron Model (Winfree's Method)\n",
    "In this problem, you are asked to do the following:\n",
    "\n",
    "1. Implement Winfree's method for approximating the Phase Response Curve (PRC) for Voltage of the CSN Model. Use simple words to describe the procedures and your method. \n",
    "2. Generate spike train with Connor-Stevens neuron and the I/O equivalent project-integrate-and-fire (PIF) neuron when the input is [$I_{ext}(t)$](#note-on-I-ext). Use simple words to describe your implementation of PIF. \n",
    "    - **Note**: You should compare the inter-spike-interval of the CSN model and the PIF model. \n",
    "3. Evaluate the mean $\\mu$ and variance $\\sigma^{2}$ of the difference between the corresponding spike times of the Connor-Stevens neuron and the equivalent PIF neuron for bandlimited stimulus described by [equation](#input) scaled to have maximum amplitude $c > 0$ (i.e. $\\max_{t}|u(t)| = c$). Plot these statistics as a function of $c$ across values of $c$. \n",
    "    - **Note 1**: You should generate new inputs $u(t)$ (with different random coefficients) to ensure that the error statistics is not biased by the form of the input stimulus. \n",
    "    - **Note 2**: The value of $c$ should not be so large that the limit cycle of the ConnorStevens model collapses into singularity. It would be instructive to look at F-I curve of the ConnorStevens model first to find a range of input current values that gives periodic spiking.\n",
    "\n",
    "### Note on $I_{ext} = I + u(t)$ <a name=\"note-on-I-ext\"/>\n",
    "Starting this homework, the injected current to model neurons $I_{ext}$ will have this form $I+u(t)$, where $I$ refers to _injected current_ (or _bias_ current) and $u(t)$ is the _stimulus_. \n",
    "The ideas is as follows:\n",
    "\n",
    "1. $I$: injected (bias) current is a _constant_ value for all time that is injected to the neuron model. You can consider this value as the _average_/DC value of the input $I_{ext}$. Since this value is not time-varying, it contains _no information_ (in the sense of entropy). For this reason, we don't use refer to $I$ as _stimulus_. However, the bias $I$ will change the shape of the limit cycle $\\Gamma$ (or the periodic solution ${\\bf x}^0$) of the neuron model, where the higher the bias current $I$, the smaller the limit cycle and the faster the neuron oscillates. For this reaso, we can consider the dynamic of the neuron model to be _parametrized_/_indexed_ by the bias $I$.\n",
    "\n",
    "2. $u(t)$: this is a time-varying signal that has information content. If we consider $I$ as the DC value of $I_{ext}$, then $u(t)$ will be a zero-mean signal that corresponds to local perturbation of the neuron dynamic around the limit cycle $\\Gamma$. This is the input signal that we seeks to decode from the neuron spike times.\n",
    "\n",
    "### Input Stimulus $u(t)$ - Complex Exponential <a name=\"input\"></a>\n",
    "The input stimulus here is a zero-DC valued complex exponential of order $M=5$ on support $t\\in[-50, 200]$ ms with bandwidth $\\Omega = 2\\pi \\cdot 20 \\quad [rad\\cdot s^-1]$,\n",
    "$$\n",
    "u(t)= \\sum^{M}_{m=-M}a_{m} \\exp\\left(j\\frac{m\\Omega t}{M}\\right)\n",
    "$$\n",
    "\n",
    "Use a uniform random number generate to obtain the complex coefficients, e.g. `rand` for the $a_{m},m=-M,\\ldots,M$.\n",
    "Note that for stimulus $u(t)$ to be real-valued signal, the coefficients $a_m$ need to be conjugate-symmetric. In another word, $a_m = \\overline{a_{-m}} = Re(a_{-m}) - j Im(a_{-m})$, \n",
    "where $Re(\\cdot), Im(\\cdot)$ calculates the _real_ and _imagninary_ parts of the complex number respectively.\n",
    "\n",
    "The stimulus $u(t)$ should be zero-DC valued, which means that $a_0 = 0$. An example of generating these coefficients is given below:\n",
    "```MATLAB\n",
    "am_right = rand(5,1) + 1i * rand(5,1);\n",
    "a_m = [conj(flip(am_right)); 0; am_right];\n",
    "```\n",
    "\n",
    "This input stimulus $u(t)$ is additively coupled into a periodically spiking Connor-Stevens neuron (kernel code is provided)."
   ]
  },
  {
   "cell_type": "markdown",
   "metadata": {},
   "source": [
    "## Setup"
   ]
  },
  {
   "cell_type": "code",
   "execution_count": null,
   "metadata": {},
   "outputs": [],
   "source": [
    "addpath(genpath('./code'));"
   ]
  },
  {
   "cell_type": "code",
   "execution_count": null,
   "metadata": {},
   "outputs": [],
   "source": [
    "%plot -b inline -f svg -r 96 -s 1080,720"
   ]
  },
  {
   "cell_type": "code",
   "execution_count": null,
   "metadata": {},
   "outputs": [],
   "source": [
    "% Clear MATLAB Workspace first.\n",
    "clearvars; close all; clc;"
   ]
  },
  {
   "cell_type": "code",
   "execution_count": null,
   "metadata": {},
   "outputs": [],
   "source": [
    "% set RNG Seed\n",
    "rng(20204020);"
   ]
  },
  {
   "cell_type": "code",
   "execution_count": null,
   "metadata": {},
   "outputs": [],
   "source": [
    "set(groot,'defaulttextinterpreter','latex');\n",
    "set(groot, 'defaultAxesTickLabelInterpreter','latex');\n",
    "set(groot, 'defaultLegendInterpreter','latex');\n",
    "default_fontsize = 13;\n",
    "default_linewidth = 1.5;"
   ]
  },
  {
   "cell_type": "markdown",
   "metadata": {},
   "source": [
    "# Problem 1 - PRC of Connor-Stevens Neuron Model (Winfree's Method)"
   ]
  },
  {
   "cell_type": "markdown",
   "metadata": {},
   "source": [
    "## Initialization"
   ]
  },
  {
   "cell_type": "code",
   "execution_count": null,
   "metadata": {},
   "outputs": [],
   "source": [
    "% TODO: Implement signal generator that takes in [time, coefficients, order, Bandwidth] as input\n",
    "bandlmt_sig = @(t,a,M,omega) NaN\n",
    "\n",
    "% NOTE: this spike_detect function takes in the threshold as input as well\n",
    "spike_detect = @(v,threshold) [false, (v(2:end-1)>v(1:end-2) & v(2:end-1)>v(3:end) & v(2:end-1)>threshold), false];"
   ]
  },
  {
   "cell_type": "code",
   "execution_count": null,
   "metadata": {},
   "outputs": [],
   "source": [
    "% TODO: Specify the time resolution for computing PRC. \n",
    "% The smaller the value the better the Winfree method performs\n",
    "\n",
    "% NOTE: start with a smaller value to ensure the code works before making it larger\n",
    "dt = NaN;"
   ]
  },
  {
   "cell_type": "code",
   "execution_count": null,
   "metadata": {},
   "outputs": [],
   "source": [
    "% TODO: Specify the bias of Connor-Steven's Model (I in I_ext = I + u(t)).\n",
    "% This value will be used in both the neuron model itself and its PIF.\n",
    "bias = NaN;"
   ]
  },
  {
   "cell_type": "markdown",
   "metadata": {},
   "source": [
    "## Item (i): Extract the PRC"
   ]
  },
  {
   "cell_type": "code",
   "execution_count": null,
   "metadata": {},
   "outputs": [],
   "source": [
    "%% TODO: Implement Winfree's Method\n",
    "% As a suggestion, the function should return \n",
    "% 1. period: the period of oscillation, maybe in number of time-steps\n",
    "% 2. limitCycle: the output of the state variables [V, n, m, h, a, b] on a limit cycle\n",
    "% 3. PRC: the phase response curve of the Voltage along the limit cycle\n",
    "[period, limitCycle, PRC] = winfree(NaN)\n"
   ]
  },
  {
   "cell_type": "code",
   "execution_count": null,
   "metadata": {},
   "outputs": [],
   "source": [
    "%% TODO: Visualize the limit cycle and the PRC along it"
   ]
  },
  {
   "cell_type": "markdown",
   "metadata": {},
   "source": [
    "## Item (ii): Compare Spikes of PIF and CSN"
   ]
  },
  {
   "cell_type": "markdown",
   "metadata": {},
   "source": [
    "### Output of CSN\n",
    "We first generate a bandlimited signal with random coefficients"
   ]
  },
  {
   "cell_type": "code",
   "execution_count": null,
   "metadata": {},
   "outputs": [],
   "source": [
    "% temporal support of the signal [-50, 200] ms\n",
    "t = -50/1e3:dt:200/1e3;\n",
    "\n",
    "% bandwidth: 20Hz\n",
    "Omega = 2*pi*20;\n",
    "\n",
    "% order: 5\n",
    "M = 5;\n",
    "\n",
    "% Amplitude of the signal, you can use other values.\n",
    "Sig_Amp = 1;\n",
    "\n",
    "% generate coefficient\n",
    "am = NaN\n",
    "\n",
    "% generate input signal. Make sure that the signal's DC value (mean) is 0\n",
    "u1 = bandlmt_sig(t, am, M, Omega);\n",
    "u1 = Sig_Amp*u1/max(u1);"
   ]
  },
  {
   "cell_type": "markdown",
   "metadata": {},
   "source": [
    "Simulate the CSN with bias and bandlimited input added."
   ]
  },
  {
   "cell_type": "code",
   "execution_count": null,
   "metadata": {},
   "outputs": [],
   "source": [
    "% TODO: simulate model and find spikes\n",
    "[V1, W] = connor_stevens(NaN);\n",
    "tk_index1 = NaN;"
   ]
  },
  {
   "cell_type": "markdown",
   "metadata": {},
   "source": [
    "### Output of PIF\n",
    "The t-transform of the PIF neuron can be written as,\n",
    "$$\n",
    "\\int_{t_k}^{t_{k+1}}(1+\\psi(s+\\tau(s))u(s))ds = \\delta_{t_{k+1}}-\\delta_{t_{k}} \\approx T, \\\\\n",
    "\\tau(t) = \\psi(t+\\tau(t))u(t),~\\tau(0)=0.\n",
    "$$    \n",
    "We assume that $\\tau(s)=0$ , and hence the $t$-transform is reduced to\n",
    "$$ \n",
    "\\int_{t_k}^{t_{k+1}}(1+\\psi(s)u(s))ds = T.\n",
    "$$  "
   ]
  },
  {
   "cell_type": "code",
   "execution_count": null,
   "metadata": {},
   "outputs": [],
   "source": [
    "% TODO: Implement and execute the PIF model using the input defined above and the PRC curve computed"
   ]
  },
  {
   "cell_type": "code",
   "execution_count": null,
   "metadata": {},
   "outputs": [],
   "source": [
    "% TODO: Plot CSN, PIF outputs and compare the Inter-spike intervals"
   ]
  },
  {
   "cell_type": "markdown",
   "metadata": {},
   "source": [
    "## Item (iii): Record PIF Error Statistics"
   ]
  },
  {
   "cell_type": "code",
   "execution_count": null,
   "metadata": {},
   "outputs": [],
   "source": [
    "% TODO: Initalize experiment\n",
    "% Find a range of amplitude $C$ that is within the range of permissable input current to the CSN model.\n",
    "% Too large and the limit cycle could collapse\n",
    "C = NaN; % amplitude of u(t)\n",
    "avg_diff = zeros(size(C));\n",
    "var_diff = zeros(size(C));"
   ]
  },
  {
   "cell_type": "code",
   "execution_count": null,
   "metadata": {},
   "outputs": [],
   "source": [
    "% TODO: Simulate the CSN and PIF for inputs I_ext = I + u(t) for different amplitude of u(t): max|u(t)| = C\n",
    "% TODO: Compute the difference between interspike interval of the CSN and PIF, and calculate the mean/standard deviation of the error.\n",
    "% TODO: visualize the error across stimulus amplitude"
   ]
  }
 ],
 "metadata": {
  "kernelspec": {
   "display_name": "Matlab",
   "language": "matlab",
   "name": "matlab"
  },
  "language_info": {
   "codemirror_mode": "octave",
   "file_extension": ".m",
   "help_links": [
    {
     "text": "MetaKernel Magics",
     "url": "https://metakernel.readthedocs.io/en/latest/source/README.html"
    }
   ],
   "mimetype": "text/x-octave",
   "name": "matlab",
   "version": "0.16.9"
  }
 },
 "nbformat": 4,
 "nbformat_minor": 4
}
